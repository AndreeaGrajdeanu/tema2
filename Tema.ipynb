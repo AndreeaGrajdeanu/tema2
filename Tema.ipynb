{
 "cells": [
  {
   "cell_type": "markdown",
   "metadata": {},
   "source": [
    "# Exercises\n",
    "1. Import numpy as np\n",
    "1. create 10 zeroes\n",
    "1. create a vector with values ranging from 10 to 100\n",
    "1. reverse it\n",
    "1. reshape it to a 3x30\n",
    "1. Create the vector with elems 1,2,9,0,0,1,4,0. Find indices of non-zero elems.\n",
    "1. Create a 3x3 identity matrix\n",
    "1. Create a random vector of size 50 with values uniformely distributed in (-1, 1). Find the average of these values.\n",
    "1. create a 5x5 matrix with 1,2,3,4 just below the 1st diag and 0 in rest.\n",
    "1. Create a 5x3 matrix and a 3x4 one. Multiply them. \n",
    "1. Using the previous matrix, extract a new one with just the integer part of the values. Find at least 4 methods of doing this.\n",
    "1. Create a random vector of size 25. Sort it.\n",
    "1. Create a random 7x2 matrix representing 7 2D points. Convert them to polar coordinates.\n",
    "1. Generate a 10x10 matrix. Generate a single random number. Find the number in the matrix closest to it."
   ]
  },
  {
   "cell_type": "code",
   "execution_count": null,
   "metadata": {},
   "outputs": [],
   "source": []
  }
 ],
 "metadata": {
  "kernelspec": {
   "display_name": "Python 3",
   "language": "python",
   "name": "python3"
  },
  "language_info": {
   "codemirror_mode": {
    "name": "ipython",
    "version": 3
   },
   "file_extension": ".py",
   "mimetype": "text/x-python",
   "name": "python",
   "nbconvert_exporter": "python",
   "pygments_lexer": "ipython3",
   "version": "3.6.8"
  }
 },
 "nbformat": 4,
 "nbformat_minor": 2
}
