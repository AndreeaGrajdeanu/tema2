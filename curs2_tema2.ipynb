{
 "cells": [
  {
   "cell_type": "markdown",
   "metadata": {},
   "source": [
    "#### 1.Import numpy as np"
   ]
  },
  {
   "cell_type": "code",
   "execution_count": 1,
   "metadata": {},
   "outputs": [],
   "source": [
    "import numpy as np"
   ]
  },
  {
   "cell_type": "markdown",
   "metadata": {},
   "source": [
    "#### 2.Create 10 zeroes"
   ]
  },
  {
   "cell_type": "code",
   "execution_count": 4,
   "metadata": {},
   "outputs": [
    {
     "data": {
      "text/plain": [
       "array([0, 0, 0, 0, 0, 0, 0, 0, 0, 0])"
      ]
     },
     "execution_count": 4,
     "metadata": {},
     "output_type": "execute_result"
    }
   ],
   "source": [
    "v=np.zeros(10,dtype=int)\n",
    "v"
   ]
  },
  {
   "cell_type": "code",
   "execution_count": 8,
   "metadata": {},
   "outputs": [
    {
     "data": {
      "text/plain": [
       "array([[0, 0, 0, 0, 0, 0, 0, 0, 0, 0]])"
      ]
     },
     "execution_count": 8,
     "metadata": {},
     "output_type": "execute_result"
    }
   ],
   "source": [
    "matrice=np.zeros((1,10),dtype=int)\n",
    "matrice"
   ]
  },
  {
   "cell_type": "markdown",
   "metadata": {},
   "source": [
    "#### 3.Create a vector with values ranging from 10 to 100"
   ]
  },
  {
   "cell_type": "code",
   "execution_count": 9,
   "metadata": {},
   "outputs": [
    {
     "data": {
      "text/plain": [
       "array([10, 11, 12, 13, 14, 15, 16, 17, 18, 19, 20, 21, 22, 23, 24, 25, 26,\n",
       "       27, 28, 29, 30, 31, 32, 33, 34, 35, 36, 37, 38, 39, 40, 41, 42, 43,\n",
       "       44, 45, 46, 47, 48, 49, 50, 51, 52, 53, 54, 55, 56, 57, 58, 59, 60,\n",
       "       61, 62, 63, 64, 65, 66, 67, 68, 69, 70, 71, 72, 73, 74, 75, 76, 77,\n",
       "       78, 79, 80, 81, 82, 83, 84, 85, 86, 87, 88, 89, 90, 91, 92, 93, 94,\n",
       "       95, 96, 97, 98, 99])"
      ]
     },
     "execution_count": 9,
     "metadata": {},
     "output_type": "execute_result"
    }
   ],
   "source": [
    "vector=np.arange(10,100)\n",
    "vector"
   ]
  },
  {
   "cell_type": "markdown",
   "metadata": {},
   "source": [
    "#### 4.Reverse it"
   ]
  },
  {
   "cell_type": "code",
   "execution_count": 10,
   "metadata": {},
   "outputs": [
    {
     "data": {
      "text/plain": [
       "array([99, 98, 97, 96, 95, 94, 93, 92, 91, 90, 89, 88, 87, 86, 85, 84, 83,\n",
       "       82, 81, 80, 79, 78, 77, 76, 75, 74, 73, 72, 71, 70, 69, 68, 67, 66,\n",
       "       65, 64, 63, 62, 61, 60, 59, 58, 57, 56, 55, 54, 53, 52, 51, 50, 49,\n",
       "       48, 47, 46, 45, 44, 43, 42, 41, 40, 39, 38, 37, 36, 35, 34, 33, 32,\n",
       "       31, 30, 29, 28, 27, 26, 25, 24, 23, 22, 21, 20, 19, 18, 17, 16, 15,\n",
       "       14, 13, 12, 11, 10])"
      ]
     },
     "execution_count": 10,
     "metadata": {},
     "output_type": "execute_result"
    }
   ],
   "source": [
    "vector_reverse=np.flip(vector)\n",
    "vector_reverse"
   ]
  },
  {
   "cell_type": "markdown",
   "metadata": {},
   "source": [
    "#### 5.Reshape it to a 3x30"
   ]
  },
  {
   "cell_type": "code",
   "execution_count": 11,
   "metadata": {},
   "outputs": [
    {
     "data": {
      "text/plain": [
       "array([[10, 11, 12, 13, 14, 15, 16, 17, 18, 19, 20, 21, 22, 23, 24, 25,\n",
       "        26, 27, 28, 29, 30, 31, 32, 33, 34, 35, 36, 37, 38, 39],\n",
       "       [40, 41, 42, 43, 44, 45, 46, 47, 48, 49, 50, 51, 52, 53, 54, 55,\n",
       "        56, 57, 58, 59, 60, 61, 62, 63, 64, 65, 66, 67, 68, 69],\n",
       "       [70, 71, 72, 73, 74, 75, 76, 77, 78, 79, 80, 81, 82, 83, 84, 85,\n",
       "        86, 87, 88, 89, 90, 91, 92, 93, 94, 95, 96, 97, 98, 99]])"
      ]
     },
     "execution_count": 11,
     "metadata": {},
     "output_type": "execute_result"
    }
   ],
   "source": [
    "vector_reshape=np.reshape(vector,(3,30))\n",
    "vector_reshape"
   ]
  },
  {
   "cell_type": "markdown",
   "metadata": {},
   "source": [
    "#### 6.Create the vector with elems 1,2,9,0,0,1,4,0. Find indices of non-zero elems"
   ]
  },
  {
   "cell_type": "code",
   "execution_count": 12,
   "metadata": {},
   "outputs": [
    {
     "data": {
      "text/plain": [
       "array([1, 2, 9, 0, 0, 1, 4, 0])"
      ]
     },
     "execution_count": 12,
     "metadata": {},
     "output_type": "execute_result"
    }
   ],
   "source": [
    "x=np.array([1,2,9,0,0,1,4,0])\n",
    "x"
   ]
  },
  {
   "cell_type": "code",
   "execution_count": 13,
   "metadata": {},
   "outputs": [
    {
     "data": {
      "text/plain": [
       "(array([0, 1, 2, 5, 6], dtype=int64),)"
      ]
     },
     "execution_count": 13,
     "metadata": {},
     "output_type": "execute_result"
    }
   ],
   "source": [
    "#find indices of non-zero elems\n",
    "indices=np.nonzero(x)\n",
    "indices"
   ]
  },
  {
   "cell_type": "markdown",
   "metadata": {},
   "source": [
    "#### 7.Create a 3x3 identity matrix"
   ]
  },
  {
   "cell_type": "code",
   "execution_count": 14,
   "metadata": {},
   "outputs": [
    {
     "data": {
      "text/plain": [
       "array([[1., 0., 0.],\n",
       "       [0., 1., 0.],\n",
       "       [0., 0., 1.]])"
      ]
     },
     "execution_count": 14,
     "metadata": {},
     "output_type": "execute_result"
    }
   ],
   "source": [
    "I=np.identity(3)\n",
    "I"
   ]
  },
  {
   "cell_type": "code",
   "execution_count": 15,
   "metadata": {},
   "outputs": [
    {
     "data": {
      "text/plain": [
       "array([[1., 0., 0.],\n",
       "       [0., 1., 0.],\n",
       "       [0., 0., 1.]])"
      ]
     },
     "execution_count": 15,
     "metadata": {},
     "output_type": "execute_result"
    }
   ],
   "source": [
    "I1=np.eye(3)\n",
    "I1"
   ]
  },
  {
   "cell_type": "markdown",
   "metadata": {},
   "source": [
    "#### 8.Create a random vector of size 50 with values uniformely distributed in (-1, 1). Find the average of these values"
   ]
  },
  {
   "cell_type": "code",
   "execution_count": 20,
   "metadata": {},
   "outputs": [
    {
     "name": "stdout",
     "output_type": "stream",
     "text": [
      "[-0.39866502  0.88682734  0.56363356 -0.90713043  0.82938687 -0.4195621\n",
      "  0.80051858  0.75000783  0.78763304  0.6416146  -0.5267668   0.76647644\n",
      "  0.79844997  0.67630364 -0.11802685  0.26483824 -0.30716889  0.46296626\n",
      "  0.67693517  0.73797376 -0.99840277 -0.62445607 -0.96103722  0.59753742\n",
      "  0.69939847 -0.67523489  0.87616405 -0.63517636 -0.84733859 -0.38751376\n",
      " -0.70984139 -0.8969825   0.48754424 -0.45589034 -0.0133264   0.10127745\n",
      " -0.5164659   0.19875825 -0.82213521 -0.1504855  -0.25161031  0.10033643\n",
      " -0.01816429 -0.1998543   0.88618795 -0.7330674   0.46362303  0.85529248\n",
      " -0.15433564  0.71271737]\n",
      "media= 0.05787527039467453\n"
     ]
    }
   ],
   "source": [
    "vect_unif=np.random.uniform(-1,1,50)\n",
    "\n",
    "#media valorilor vectorului\n",
    "\n",
    "vect_mean=np.mean(vect_unif)\n",
    "print(vect_unif)\n",
    "print('media=',vect_mean)"
   ]
  },
  {
   "cell_type": "markdown",
   "metadata": {},
   "source": [
    "#### 9.Create a 5x5 matrix with 1,2,3,4 just below the 1st diag and 0 in rest"
   ]
  },
  {
   "cell_type": "code",
   "execution_count": 21,
   "metadata": {},
   "outputs": [
    {
     "data": {
      "text/plain": [
       "array([[0, 0, 0, 0, 0],\n",
       "       [1, 0, 0, 0, 0],\n",
       "       [0, 2, 0, 0, 0],\n",
       "       [0, 0, 3, 0, 0],\n",
       "       [0, 0, 0, 4, 0]])"
      ]
     },
     "execution_count": 21,
     "metadata": {},
     "output_type": "execute_result"
    }
   ],
   "source": [
    "M=np.diag([1,2,3,4],-1)\n",
    "M"
   ]
  },
  {
   "cell_type": "markdown",
   "metadata": {},
   "source": [
    "#### 10.Create a 5x3 matrix and a 3x4 one. Multiply them"
   ]
  },
  {
   "cell_type": "code",
   "execution_count": 26,
   "metadata": {},
   "outputs": [
    {
     "name": "stdout",
     "output_type": "stream",
     "text": [
      "[[1 2 1]\n",
      " [2 3 2]\n",
      " [1 3 2]\n",
      " [4 1 2]\n",
      " [1 5 2]]\n",
      "[[1 2 1 3]\n",
      " [2 3 2 7]\n",
      " [1 3 2 2]]\n",
      "[[ 6 11  7 19]\n",
      " [10 19 12 31]\n",
      " [ 9 17 11 28]\n",
      " [ 8 17 10 23]\n",
      " [13 23 15 42]]\n"
     ]
    }
   ],
   "source": [
    "#creez eu matricele\n",
    "\n",
    "A=np.array([[1,2,1],[2,3,2],[1,3,2],[4,1,2],[1,5,2]])\n",
    "B=np.array([[1,2,1,3],[2,3,2,7],[1,3,2,2]])\n",
    "matrix_prod=np.dot(A,B)\n",
    "print(A)\n",
    "print(B)\n",
    "print(matrix_prod)\n"
   ]
  },
  {
   "cell_type": "code",
   "execution_count": 42,
   "metadata": {},
   "outputs": [
    {
     "name": "stdout",
     "output_type": "stream",
     "text": [
      "[[0.07387535 0.93074206 0.8750701 ]\n",
      " [0.90999282 0.59571911 0.93169103]\n",
      " [0.8358486  0.11098639 0.11247453]\n",
      " [0.05079595 0.31105604 0.38356712]\n",
      " [0.68932194 0.03600422 0.02995027]]\n",
      "[[0.201949   0.87402303 0.18038083 0.84684539]\n",
      " [0.8519084  0.45682967 0.21345112 0.48579288]\n",
      " [0.30024657 0.25181774 0.05539189 0.74570218]]\n",
      "[[1.07056283 0.71011752 0.26046541 1.16725055]\n",
      " [0.9710073  1.30211318 0.34291029 1.75478336]\n",
      " [0.29711911 0.80957588 0.18069141 0.84562343]\n",
      " [0.39041416 0.28308547 0.09680438 0.48015197]\n",
      " [0.17887264 0.62647305 0.1336846  0.62357368]]\n"
     ]
    }
   ],
   "source": [
    "#random matrix\n",
    "A_5_3=np.random.random((5,3))\n",
    "B_3_4=np.random.random((3,4))\n",
    "matrix_prod=np.dot(A_5_3,B_3_4)\n",
    "print(A_5_3)\n",
    "print(B_3_4)\n",
    "print(matrix_prod)"
   ]
  },
  {
   "cell_type": "markdown",
   "metadata": {},
   "source": [
    "#### 11.Using the previous matrix, extract a new one with just the integer part of the values. Find at least 4 methods of doing this"
   ]
  },
  {
   "cell_type": "code",
   "execution_count": 43,
   "metadata": {},
   "outputs": [
    {
     "data": {
      "text/plain": [
       "array([[1., 0., 0., 1.],\n",
       "       [0., 1., 0., 1.],\n",
       "       [0., 0., 0., 0.],\n",
       "       [0., 0., 0., 0.],\n",
       "       [0., 0., 0., 0.]])"
      ]
     },
     "execution_count": 43,
     "metadata": {},
     "output_type": "execute_result"
    }
   ],
   "source": [
    "#metoda 1\n",
    "\n",
    "M1=np.trunc(matrix_prod)\n",
    "M1"
   ]
  },
  {
   "cell_type": "code",
   "execution_count": 51,
   "metadata": {},
   "outputs": [
    {
     "name": "stdout",
     "output_type": "stream",
     "text": [
      "[[1 0 0 1]\n",
      " [0 1 0 1]\n",
      " [0 0 0 0]\n",
      " [0 0 0 0]\n",
      " [0 0 0 0]]\n"
     ]
    }
   ],
   "source": [
    "# metoda 2\n",
    "\n",
    "M2=matrix_prod.astype(int)\n",
    "print(M2)"
   ]
  },
  {
   "cell_type": "code",
   "execution_count": 60,
   "metadata": {},
   "outputs": [
    {
     "name": "stdout",
     "output_type": "stream",
     "text": [
      "(5, 4)\n",
      "[[1 0 0 1]\n",
      " [0 1 0 1]\n",
      " [0 0 0 0]\n",
      " [0 0 0 0]\n",
      " [0 0 0 0]]\n"
     ]
    }
   ],
   "source": [
    "# metoda 3\n",
    "\n",
    "print(matrix_prod.shape)\n",
    "\n",
    "def func1(x,y):\n",
    "    return matrix_prod[x,y].astype(int)\n",
    "\n",
    "M3=np.fromfunction(func1,(5,4), dtype=int)\n",
    "print(M3)"
   ]
  },
  {
   "cell_type": "markdown",
   "metadata": {},
   "source": [
    "#### 12. Create a random vector of size 25. Sort it"
   ]
  },
  {
   "cell_type": "code",
   "execution_count": 70,
   "metadata": {},
   "outputs": [
    {
     "name": "stdout",
     "output_type": "stream",
     "text": [
      "[0.91362348 0.05406617 0.79029484 0.37466229 0.05114801 0.3259167\n",
      " 0.82452919 0.0992634  0.49662392 0.97147351 0.52342812 0.63608158\n",
      " 0.75946523 0.15835703 0.42144972 0.33588667 0.11630501 0.10692247\n",
      " 0.82257426 0.46756874 0.87399416 0.53270957 0.26342337 0.41006819\n",
      " 0.1252854 ]\n",
      "Sorted array:\n",
      "[0.05114801 0.05406617 0.0992634  0.10692247 0.11630501 0.1252854\n",
      " 0.15835703 0.26342337 0.3259167  0.33588667 0.37466229 0.41006819\n",
      " 0.42144972 0.46756874 0.49662392 0.52342812 0.53270957 0.63608158\n",
      " 0.75946523 0.79029484 0.82257426 0.82452919 0.87399416 0.91362348\n",
      " 0.97147351]\n"
     ]
    }
   ],
   "source": [
    "x = np.random.random(25)\n",
    "print(x)\n",
    "x.sort()\n",
    "print(\"Sorted array:\")\n",
    "print(x)"
   ]
  },
  {
   "cell_type": "markdown",
   "metadata": {},
   "source": [
    "#### 13. Create a random 7x2 matrix representing 7 2D points. Convert them to polar coordinates."
   ]
  },
  {
   "cell_type": "code",
   "execution_count": 78,
   "metadata": {},
   "outputs": [
    {
     "name": "stdout",
     "output_type": "stream",
     "text": [
      "[[0.28881354 0.02834774]\n",
      " [0.78378849 0.03950506]\n",
      " [0.19352278 0.50295832]\n",
      " [0.78076963 0.97570697]\n",
      " [0.44148206 0.38538767]\n",
      " [0.92117547 0.28901864]\n",
      " [0.9005156  0.33206954]]\n"
     ]
    }
   ],
   "source": [
    "Matrix_2D=np.random.random((7,2))\n",
    "print(Matrix_2D)"
   ]
  },
  {
   "cell_type": "code",
   "execution_count": 87,
   "metadata": {},
   "outputs": [
    {
     "name": "stdout",
     "output_type": "stream",
     "text": [
      "[0.29020141 0.78478344 0.53890457 1.24964207 0.58602907 0.9654512\n",
      " 0.95979087]\n",
      "[0.097839   0.05036009 1.20348867 0.89592787 0.7176625  0.30402309\n",
      " 0.3532843 ]\n"
     ]
    }
   ],
   "source": [
    "# metoda 1\n",
    "\n",
    "x = Matrix_2D[:,0]\n",
    "y = Matrix_2D[:,1]\n",
    "\n",
    "r = np.sqrt(x**2+y**2)\n",
    "t = np.arctan2(y,x)\n",
    "print(r)\n",
    "print(t)\n"
   ]
  },
  {
   "cell_type": "code",
   "execution_count": 99,
   "metadata": {},
   "outputs": [
    {
     "data": {
      "text/plain": [
       "(array([[0.29020141],\n",
       "        [0.78478344],\n",
       "        [0.53890457],\n",
       "        [1.24964207],\n",
       "        [0.58602907],\n",
       "        [0.9654512 ],\n",
       "        [0.95979087]]), array([[0.097839  ],\n",
       "        [0.05036009],\n",
       "        [1.20348867],\n",
       "        [0.89592787],\n",
       "        [0.7176625 ],\n",
       "        [0.30402309],\n",
       "        [0.3532843 ]]))"
      ]
     },
     "execution_count": 99,
     "metadata": {},
     "output_type": "execute_result"
    }
   ],
   "source": [
    "# metoda 2\n",
    "\n",
    "def coordonate_polare (x,y):\n",
    "    rho = np.sqrt(Matrix_2D[x,0]**2 + Matrix_2D[x,1]**2)\n",
    "    phi = np.arctan2(Matrix_2D[x,1], Matrix_2D[x,0])\n",
    "    return rho , phi\n",
    "\n",
    "C_p=np.fromfunction(coordonate_polare,(7,1), dtype=int)\n",
    "C_p"
   ]
  },
  {
   "cell_type": "markdown",
   "metadata": {},
   "source": [
    "#### 14. Generate a 10x10 matrix. Generate a single random number. Find the number in the matrix closest to it"
   ]
  },
  {
   "cell_type": "code",
   "execution_count": 76,
   "metadata": {},
   "outputs": [
    {
     "name": "stdout",
     "output_type": "stream",
     "text": [
      "[[0.16090968 0.06269742 0.03882838 0.15387725 0.1701972  0.34175742\n",
      "  0.45025956 0.31710176 0.89956537 0.54924852]\n",
      " [0.18258379 0.3308134  0.4000237  0.77453815 0.56329651 0.82052819\n",
      "  0.87240891 0.63512372 0.20913545 0.22402067]\n",
      " [0.95445201 0.7379712  0.43501504 0.41084762 0.13869263 0.22268838\n",
      "  0.6826779  0.04444337 0.23963502 0.68829892]\n",
      " [0.54521276 0.47951532 0.70724704 0.53962453 0.50523781 0.09377656\n",
      "  0.71967427 0.5017703  0.26475291 0.30417385]\n",
      " [0.21873018 0.88444491 0.22874146 0.58121525 0.32901072 0.95605256\n",
      "  0.1491395  0.14955068 0.40916258 0.71625039]\n",
      " [0.73621225 0.25956496 0.42413605 0.27131129 0.18587879 0.59313349\n",
      "  0.14933748 0.88518377 0.38413719 0.45060094]\n",
      " [0.62261331 0.01869865 0.05569608 0.97109346 0.98690969 0.61393143\n",
      "  0.36479535 0.62276479 0.09814572 0.64717131]\n",
      " [0.96472757 0.22311081 0.76712853 0.60029322 0.22623543 0.46403324\n",
      "  0.15058226 0.74918923 0.62244141 0.85883111]\n",
      " [0.81149487 0.37119998 0.14626298 0.71731958 0.11746261 0.3389055\n",
      "  0.16659742 0.52467495 0.40449256 0.89956917]\n",
      " [0.83057933 0.31878739 0.92839221 0.77501836 0.29149578 0.01314079\n",
      "  0.80611206 0.08159517 0.16740756 0.87298997]]\n",
      "0.9440428470691565\n"
     ]
    }
   ],
   "source": [
    "M=np.random.random((10,10))\n",
    "y=np.random.random()\n",
    "print(M)\n",
    "print(y)"
   ]
  },
  {
   "cell_type": "code",
   "execution_count": 77,
   "metadata": {},
   "outputs": [
    {
     "name": "stdout",
     "output_type": "stream",
     "text": [
      "0.9544520127387164\n"
     ]
    }
   ],
   "source": [
    "nr_gasit=M.flat[np.abs(M-y).argmin()]\n",
    "print(nr_gasit)"
   ]
  },
  {
   "cell_type": "code",
   "execution_count": null,
   "metadata": {},
   "outputs": [],
   "source": []
  }
 ],
 "metadata": {
  "kernelspec": {
   "display_name": "Python 3",
   "language": "python",
   "name": "python3"
  },
  "language_info": {
   "codemirror_mode": {
    "name": "ipython",
    "version": 3
   },
   "file_extension": ".py",
   "mimetype": "text/x-python",
   "name": "python",
   "nbconvert_exporter": "python",
   "pygments_lexer": "ipython3",
   "version": "3.7.4"
  }
 },
 "nbformat": 4,
 "nbformat_minor": 2
}
